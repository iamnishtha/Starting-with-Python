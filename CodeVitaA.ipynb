{
 "cells": [
  {
   "cell_type": "code",
   "execution_count": 1,
   "metadata": {},
   "outputs": [
    {
     "name": "stdout",
     "output_type": "stream",
     "text": [
      "4\n",
      "rrmr\n",
      "mrmr\n",
      "1\n"
     ]
    }
   ],
   "source": [
    "def Swayamvar(n,bride,groom):\n",
    "    flag=False\n",
    "    for i in range(n):\n",
    "        for j in range(n):\n",
    "            if bride[0]==groom[0]:\n",
    "                bride=bride[1:]\n",
    "                groom=groom[1:]\n",
    "                flag=True\n",
    "                break\n",
    "            \n",
    "            else:\n",
    "                c=groom[0]\n",
    "                groom=groom[1:]+c\n",
    "                flag=False\n",
    "            \n",
    "        if flag==False:\n",
    "            return (n-i)\n",
    "        \n",
    "p=Swayamvar(int(input()),input(),input())\n",
    "if p== None:\n",
    "    print(0)\n",
    "else:\n",
    "    print(p)"
   ]
  },
  {
   "cell_type": "code",
   "execution_count": null,
   "metadata": {},
   "outputs": [],
   "source": []
  }
 ],
 "metadata": {
  "kernelspec": {
   "display_name": "Python 3",
   "language": "python",
   "name": "python3"
  },
  "language_info": {
   "codemirror_mode": {
    "name": "ipython",
    "version": 3
   },
   "file_extension": ".py",
   "mimetype": "text/x-python",
   "name": "python",
   "nbconvert_exporter": "python",
   "pygments_lexer": "ipython3",
   "version": "3.7.4"
  }
 },
 "nbformat": 4,
 "nbformat_minor": 2
}
