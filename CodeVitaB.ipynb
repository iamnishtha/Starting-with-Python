{
 "cells": [
  {
   "cell_type": "code",
   "execution_count": 17,
   "metadata": {},
   "outputs": [
    {
     "ename": "SyntaxError",
     "evalue": "invalid syntax (<ipython-input-17-17b5f89c92c5>, line 9)",
     "output_type": "error",
     "traceback": [
      "\u001b[1;36m  File \u001b[1;32m\"<ipython-input-17-17b5f89c92c5>\"\u001b[1;36m, line \u001b[1;32m9\u001b[0m\n\u001b[1;33m    return d[]\u001b[0m\n\u001b[1;37m             ^\u001b[0m\n\u001b[1;31mSyntaxError\u001b[0m\u001b[1;31m:\u001b[0m invalid syntax\n"
     ]
    }
   ],
   "source": [
    "def digit(n):\n",
    "    d=[]\n",
    "    i=0\n",
    "    while n>0:\n",
    "        di=n%10\n",
    "        n=n//10\n",
    "        d[i]=di\n",
    "        i=i+1\n",
    "        print()\n",
    "    return d"
   ]
  },
  {
   "cell_type": "code",
   "execution_count": 16,
   "metadata": {},
   "outputs": [
    {
     "ename": "SyntaxError",
     "evalue": "invalid syntax (<ipython-input-16-750ddd73e344>, line 7)",
     "output_type": "error",
     "traceback": [
      "\u001b[1;36m  File \u001b[1;32m\"<ipython-input-16-750ddd73e344>\"\u001b[1;36m, line \u001b[1;32m7\u001b[0m\n\u001b[1;33m    c.sort()\u001b[0m\n\u001b[1;37m    ^\u001b[0m\n\u001b[1;31mSyntaxError\u001b[0m\u001b[1;31m:\u001b[0m invalid syntax\n"
     ]
    }
   ],
   "source": [
    "def bit(size, n):\n",
    "    a=0\n",
    "    sd=[]\n",
    "    \n",
    "    for i in range(1,size):\n",
    "        c=digit(int(n[i])\n",
    "        c.sort()\n",
    "        v=c[0]*7+c[2]*11\n",
    "        s=str(v)\n",
    "        c=digit(n[i])\n",
    "        if c[2]!='null':\n",
    "            sd[a]=c[0]\n",
    "            s=s[1:]\n",
    "        result[a]=s\n",
    "    \n",
    "    print(result)\n",
    "    \n",
    "num=input()\n",
    "bit(8,num)"
   ]
  },
  {
   "cell_type": "code",
   "execution_count": null,
   "metadata": {},
   "outputs": [],
   "source": []
  }
 ],
 "metadata": {
  "kernelspec": {
   "display_name": "Python 3",
   "language": "python",
   "name": "python3"
  },
  "language_info": {
   "codemirror_mode": {
    "name": "ipython",
    "version": 3
   },
   "file_extension": ".py",
   "mimetype": "text/x-python",
   "name": "python",
   "nbconvert_exporter": "python",
   "pygments_lexer": "ipython3",
   "version": "3.7.4"
  }
 },
 "nbformat": 4,
 "nbformat_minor": 2
}
